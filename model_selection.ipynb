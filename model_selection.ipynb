{
 "cells": [
  {
   "cell_type": "code",
   "execution_count": 1,
   "metadata": {},
   "outputs": [],
   "source": [
    "import pandas as pd\n",
    "import numpy as np"
   ]
  },
  {
   "cell_type": "code",
   "execution_count": 2,
   "metadata": {},
   "outputs": [],
   "source": [
    "# Load data into datacframe\n",
    "df = pd.read_csv('raw_data.csv')"
   ]
  },
  {
   "cell_type": "code",
   "execution_count": 3,
   "metadata": {},
   "outputs": [],
   "source": [
    "df.head()"
   ]
  },
  {
   "cell_type": "code",
   "execution_count": 4,
   "metadata": {},
   "outputs": [
    {
     "data": {
      "text/plain": [
       "Index(['age', 'anaemia', 'creatinine_phosphokinase', 'diabetes',\n",
       "       'ejection_fraction', 'high_blood_pressure', 'platelets',\n",
       "       'serum_creatinine', 'serum_sodium', 'sex', 'smoking', 'time',\n",
       "       'DEATH_EVENT'],\n",
       "      dtype='object')"
      ]
     },
     "execution_count": 4,
     "metadata": {},
     "output_type": "execute_result"
    }
   ],
   "source": [
    "df.columns"
   ]
  },
  {
   "cell_type": "code",
   "execution_count": 5,
   "metadata": {},
   "outputs": [],
   "source": [
    "# Rename columns\n",
    "df.columns = ['age', 'anaemia', 'creatinine_phosphokinase', 'diabetes',\n",
    "       'ejection_fraction', 'high_blood_pressure', 'platelets',\n",
    "       'serum_creatinine', 'serum_sodium', 'sex', 'smoking', 'time',\n",
    "       'death_event']"
   ]
  },
  {
   "cell_type": "code",
   "execution_count": 6,
   "metadata": {},
   "outputs": [
    {
     "data": {
      "text/plain": [
       "(299, 13)"
      ]
     },
     "execution_count": 6,
     "metadata": {},
     "output_type": "execute_result"
    }
   ],
   "source": [
    "df.shape"
   ]
  },
  {
   "cell_type": "code",
   "execution_count": 7,
   "metadata": {},
   "outputs": [],
   "source": [
    "df.info()"
   ]
  },
  {
   "cell_type": "code",
   "execution_count": 8,
   "metadata": {},
   "outputs": [],
   "source": [
    "df.describe().transpose()"
   ]
  },
  {
   "cell_type": "code",
   "execution_count": 9,
   "metadata": {},
   "outputs": [],
   "source": [
    "df['age'] = df['age'].astype('int64')"
   ]
  },
  {
   "cell_type": "code",
   "execution_count": null,
   "metadata": {},
   "outputs": [],
   "source": [
    "#df.to_csv('processed_data.csv')"
   ]
  },
  {
   "cell_type": "code",
   "execution_count": 10,
   "metadata": {},
   "outputs": [],
   "source": [
    "# Import libraries for visualzation\n",
    "import seaborn as sns\n",
    "import matplotlib.pyplot as plt"
   ]
  },
  {
   "cell_type": "code",
   "execution_count": 11,
   "metadata": {},
   "outputs": [],
   "source": [
    "# Visualize distribution of features\n",
    "fig, ax = plt.subplots(figsize=(20, 15))\n",
    "\n",
    "df.plot(kind='density', subplots=True, layout=(4,4), sharex=False, sharey=False, ax=ax)\n",
    "\n",
    "plt.show()"
   ]
  },
  {
   "cell_type": "code",
   "execution_count": 12,
   "metadata": {},
   "outputs": [],
   "source": [
    "# Visualize correlation of features\n",
    "fig, ax = plt.subplots(figsize=(10, 8))\n",
    "\n",
    "sns.heatmap(df.corr(), annot=True, ax=ax)\n",
    "\n",
    "plt.show()"
   ]
  },
  {
   "cell_type": "code",
   "execution_count": 13,
   "metadata": {},
   "outputs": [],
   "source": [
    "# Import libraries for modeling processes\n",
    "import sklearn\n",
    "from sklearn.preprocessing import PowerTransformer\n",
    "from sklearn.model_selection import GridSearchCV\n",
    "from sklearn.model_selection import train_test_split\n",
    "from sklearn.feature_selection import RFE\n",
    "from sklearn.metrics import accuracy_score\n",
    "from sklearn.tree import DecisionTreeClassifier\n",
    "from sklearn.linear_model import LogisticRegression\n",
    "from sklearn.svm import SVC"
   ]
  },
  {
   "cell_type": "code",
   "execution_count": 14,
   "metadata": {},
   "outputs": [],
   "source": [
    "# Separate features and target variables\n",
    "X = df.drop('death_event', axis=1)\n",
    "Y = df['death_event']"
   ]
  },
  {
   "cell_type": "code",
   "execution_count": 15,
   "metadata": {},
   "outputs": [],
   "source": [
    "# Define parameter tunning function for Logistic Regression\n",
    "def get_params_LR(x, y):\n",
    "    params = {'solver':['liblinear', 'saga'],\n",
    "              'penalty':['l2', 'l1'], 'C':[1.0,1.5,2.0,2.5],\n",
    "              'max_iter':[200, 100, 400,300],\n",
    "              'random_state':list(range(10))}\n",
    "    estimator = LogisticRegression()\n",
    "    GS = GridSearchCV(estimator, params, scoring='accuracy', cv=10)\n",
    "    GS.fit(x, y)\n",
    "    solver = GS.best_params_['solver']\n",
    "    penalty = GS.best_params_['penalty']\n",
    "    C = GS.best_params_['C']\n",
    "    max_iter = GS.best_params_['max_iter']\n",
    "    random_state = GS.best_params_['random_state']\n",
    "    return [solver, penalty, C, max_iter, random_state]"
   ]
  },
  {
   "cell_type": "code",
   "execution_count": 16,
   "metadata": {},
   "outputs": [],
   "source": [
    "# Define parameter tunning function for Decision Tree Classifier\n",
    "def get_params_DT(x, y):\n",
    "    params = {'criterion':['entropy', 'gini'],\n",
    "              'max_depth':[1,2,3,4,5,6,7,8,9],\n",
    "              'ccp_alpha':[0.1, 0.2, 0.5, 1.0,1.5,2.0,2.5],\n",
    "              'random_state':list(range(10))}\n",
    "    estimator = DecisionTreeClassifier()\n",
    "    GS = GridSearchCV(estimator, params, scoring='accuracy', cv=10)\n",
    "    GS.fit(x, y)\n",
    "    criterion = GS.best_params_['criterion']\n",
    "    max_depth = GS.best_params_['max_depth']\n",
    "    ccp_alpha = GS.best_params_['ccp_alpha']\n",
    "    random_state = GS.best_params_['random_state']\n",
    "    return [criterion, max_depth, ccp_alpha, random_state]"
   ]
  },
  {
   "cell_type": "code",
   "execution_count": 17,
   "metadata": {},
   "outputs": [],
   "source": [
    "# Define parameter tunning function for Support Vector Classifier\n",
    "def get_params_SVC(x, y):\n",
    "    params = {'C':[1.0,1.5,2.0,2.5],\n",
    "              'kernel':['linear', 'poly', 'rbf', 'sigmoid'],\n",
    "              'random_state':list(range(10))}\n",
    "    estimator = SVC()\n",
    "    GS = GridSearchCV(estimator, params, scoring='accuracy', cv=10)\n",
    "    GS.fit(x, y)\n",
    "    C = GS.best_params_['C']\n",
    "    kernel = GS.best_params_['kernel']\n",
    "    random_state = GS.best_params_['random_state']\n",
    "    return [C, kernel, random_state]"
   ]
  },
  {
   "cell_type": "code",
   "execution_count": 18,
   "metadata": {},
   "outputs": [],
   "source": [
    "# Create model building function\n",
    "def build_model(alg, x, y, processing=None):\n",
    "    \n",
    "    # Perform Recursive Feature Elimination for feature selection\n",
    "    model = DecisionTreeClassifier(max_depth=4)\n",
    "    fit = RFE(model, n_features_to_select=4).fit(x, y)\n",
    "    feature_rank = pd.DataFrame({'Feature':x.columns,\n",
    "                                 'Rank':fit.ranking_,\n",
    "                                 'Selected':fit.support_})\n",
    "    feature_rank = feature_rank.sort_values(by='Rank', ascending=True)\n",
    "    RFE_selected_features = feature_rank[feature_rank['Selected'] == True]\n",
    "    RFE_features = x[RFE_selected_features['Feature']]\n",
    "    x_new = RFE_features\n",
    "   \n",
    "    if processing is not None:\n",
    "        x_new = processing.fit_transform(x_new)\n",
    "    \n",
    "    x_train, x_test, y_train, y_test = train_test_split(x_new, y, test_size=0.2)\n",
    "    \n",
    "    if alg == 'lreg':\n",
    "        param = get_params_LR(x_train, y_train)\n",
    "        alg = LogisticRegression(solver=param[0], penalty=param[1], C=param[2], max_iter=param[3], random_state=param[4])\n",
    "    \n",
    "    if alg == 'dtree':\n",
    "        param = get_params_DT(x_train, y_train)\n",
    "        alg = DecisionTreeClassifier(criterion=param[0], max_depth=param[1], ccp_alpha=param[2], random_state=param[3])\n",
    "    \n",
    "    if alg == 'svc':\n",
    "        param = get_params_SVC(x_train, y_train)\n",
    "        alg = SVC(C=param[0], kernel=param[1], random_state=param[2])\n",
    "\n",
    "    model = alg.fit(x_train, y_train)\n",
    "    y_pred = model.predict(x_test)\n",
    "    \n",
    "    return {\n",
    "            'training score': model.score(x_train, y_train),\n",
    "            'accuracy score': accuracy_score(y_test, y_pred),\n",
    "            'features used': list(RFE_features.columns),\n",
    "            'parameter used': param\n",
    "            }"
   ]
  },
  {
   "cell_type": "code",
   "execution_count": 19,
   "metadata": {},
   "outputs": [],
   "source": [
    "# Create dictionary for results of different models\n",
    "result_dict = {}"
   ]
  },
  {
   "cell_type": "code",
   "execution_count": 20,
   "metadata": {},
   "outputs": [],
   "source": [
    "def compare_results(result_dict):\n",
    "    for key in result_dict:\n",
    "        print('algorithm: ', key)\n",
    "        print('parameter used:', result_dict[key]['parameter used'])\n",
    "        print('features used:', result_dict[key]['features used'])\n",
    "        print('training score:', result_dict[key]['training score'])\n",
    "        print('accuracy score:', result_dict[key]['accuracy score'])"
   ]
  },
  {
   "cell_type": "code",
   "execution_count": 21,
   "metadata": {},
   "outputs": [],
   "source": [
    "# Fit Logistic Regression model\n",
    "result_dict['logistic_regression'] = build_model('lreg', X, Y, processing=PowerTransformer())"
   ]
  },
  {
   "cell_type": "code",
   "execution_count": 22,
   "metadata": {},
   "outputs": [],
   "source": [
    "# Fit Decision Tree Classifier Model\n",
    "result_dict['decision_tree_classifier'] = build_model('dtree', X, Y, processing=PowerTransformer())"
   ]
  },
  {
   "cell_type": "code",
   "execution_count": 23,
   "metadata": {},
   "outputs": [],
   "source": [
    "# Fit Support Vector Classifier model\n",
    "result_dict['support_vector_machine'] = build_model('svc', X, Y, processing=PowerTransformer())"
   ]
  },
  {
   "cell_type": "code",
   "execution_count": 24,
   "metadata": {},
   "outputs": [
    {
     "name": "stdout",
     "output_type": "stream",
     "text": [
      "algorithm:  logistic_regression\n",
      "parameter used: ['liblinear', 'l2', 1.0, 200, 0]\n",
      "features used: ['creatinine_phosphokinase', 'ejection_fraction', 'serum_creatinine', 'time']\n",
      "training score: 0.8451882845188284\n",
      "accuracy score: 0.8666666666666667\n",
      "algorithm:  decision_tree_classifier\n",
      "parameter used: ['entropy', 1, 0.1, 0]\n",
      "features used: ['creatinine_phosphokinase', 'ejection_fraction', 'serum_creatinine', 'time']\n",
      "training score: 0.8493723849372385\n",
      "accuracy score: 0.8333333333333334\n",
      "algorithm:  support_vector_machine\n",
      "parameter used: [2.5, 'rbf', 0]\n",
      "features used: ['age', 'ejection_fraction', 'serum_creatinine', 'time']\n",
      "training score: 0.8702928870292888\n",
      "accuracy score: 0.85\n"
     ]
    }
   ],
   "source": [
    "# Compare results of the three models\n",
    "compare_results(result_dict)"
   ]
  }
 ],
 "metadata": {
  "kernelspec": {
   "display_name": "Python 3",
   "language": "python",
   "name": "python3"
  },
  "language_info": {
   "codemirror_mode": {
    "name": "ipython",
    "version": 3
   },
   "file_extension": ".py",
   "mimetype": "text/x-python",
   "name": "python",
   "nbconvert_exporter": "python",
   "pygments_lexer": "ipython3",
   "version": "3.7.7"
  }
 },
 "nbformat": 4,
 "nbformat_minor": 4
}
